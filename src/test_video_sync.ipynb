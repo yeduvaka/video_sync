{
 "cells": [
  {
   "cell_type": "markdown",
   "metadata": {},
   "source": [
    "## Test file for video synchronisation\n",
    "#### Author: Aravind Yeduvaka"
   ]
  },
  {
   "cell_type": "code",
   "execution_count": 30,
   "metadata": {
    "collapsed": true
   },
   "outputs": [],
   "source": [
    "import numpy as np\n",
    "import cv2\n",
    "COPY images\n",
    "FROM \"/home/carmera/Documents/images.csv\" DELIMITER ',' CSV HEADER;"
   ]
  },
  {
   "cell_type": "code",
   "execution_count": 31,
   "metadata": {
    "collapsed": true
   },
   "outputs": [],
   "source": [
    "##Check if the videos are at least roughly from the same time (+/- 5 secs)\n",
    "pass"
   ]
  },
  {
   "cell_type": "code",
   "execution_count": 32,
   "metadata": {
    "collapsed": true
   },
   "outputs": [],
   "source": [
    "def sim(pic1, pic2):\n",
    "    pic_norm1 = pic1/np.sqrt(np.sum(pic1**2))\n",
    "    pic_norm2 = pic2/np.sqrt(np.sum(pic2**2))\n",
    "    \n",
    "    return np.sum(pic_norm1*pic_norm2)"
   ]
  },
  {
   "cell_type": "code",
   "execution_count": 33,
   "metadata": {
    "collapsed": true
   },
   "outputs": [],
   "source": [
    "def closest(pic, vid):\n",
    "    fps = 15 #int(vid.get(cv2.cv.CV_CAP_PROP_FPS))\n",
    "    best_sim = -1\n",
    "    offset = 0\n",
    "    pic = cv2.cvtColor(pic, cv2.COLOR_BGR2GRAY)\n",
    "    for i in xrange(0, 8*fps):\n",
    "        if i < 2*fps:\n",
    "            ret, img = vid.read()\n",
    "            pass\n",
    "        else:\n",
    "            ret, img = vid.read()\n",
    "            img = cv2.cvtColor(img, cv2.COLOR_BGR2GRAY)\n",
    "            similarity = sim(img, pic)\n",
    "            if similarity > best_sim:\n",
    "                best_sim = similarity\n",
    "                offset = vid.get(cv2.cv.CV_CAP_PROP_POS_MSEC)\n",
    "    return offset"
   ]
  },
  {
   "cell_type": "code",
   "execution_count": 34,
   "metadata": {
    "collapsed": true
   },
   "outputs": [],
   "source": [
    "vid1 = cv2.VideoCapture(\"../data/test3.mp4\")\n",
    "vid2 = cv2.VideoCapture(\"../data/test4.mp4\")"
   ]
  },
  {
   "cell_type": "code",
   "execution_count": 1,
   "metadata": {},
   "outputs": [
    {
     "ename": "NameError",
     "evalue": "name 'vid1' is not defined",
     "output_type": "error",
     "traceback": [
      "\u001b[0;31m---------------------------------------------------------------------------\u001b[0m",
      "\u001b[0;31mNameError\u001b[0m                                 Traceback (most recent call last)",
      "\u001b[0;32m<ipython-input-1-04745a9ba63c>\u001b[0m in \u001b[0;36m<module>\u001b[0;34m()\u001b[0m\n\u001b[1;32m      1\u001b[0m \u001b[0mfps\u001b[0m \u001b[0;34m=\u001b[0m \u001b[0;36m15\u001b[0m \u001b[0;31m#int(vid.get(cv2.cv.CV_CAP_PROP_FPS))\u001b[0m\u001b[0;34m\u001b[0m\u001b[0m\n\u001b[1;32m      2\u001b[0m \u001b[0;32mfor\u001b[0m \u001b[0mi\u001b[0m \u001b[0;32min\u001b[0m \u001b[0mxrange\u001b[0m\u001b[0;34m(\u001b[0m\u001b[0;36m0\u001b[0m\u001b[0;34m,\u001b[0m\u001b[0;36m3\u001b[0m\u001b[0;34m*\u001b[0m\u001b[0mfps\u001b[0m\u001b[0;34m)\u001b[0m\u001b[0;34m:\u001b[0m\u001b[0;34m\u001b[0m\u001b[0m\n\u001b[0;32m----> 3\u001b[0;31m     \u001b[0mret\u001b[0m\u001b[0;34m,\u001b[0m \u001b[0mimg\u001b[0m \u001b[0;34m=\u001b[0m \u001b[0mvid1\u001b[0m\u001b[0;34m.\u001b[0m\u001b[0mread\u001b[0m\u001b[0;34m(\u001b[0m\u001b[0;34m)\u001b[0m\u001b[0;34m\u001b[0m\u001b[0m\n\u001b[0m\u001b[1;32m      4\u001b[0m \u001b[0moffset1\u001b[0m \u001b[0;34m=\u001b[0m \u001b[0mvid1\u001b[0m\u001b[0;34m.\u001b[0m\u001b[0mget\u001b[0m\u001b[0;34m(\u001b[0m\u001b[0mcv2\u001b[0m\u001b[0;34m.\u001b[0m\u001b[0mcv\u001b[0m\u001b[0;34m.\u001b[0m\u001b[0mCV_CAP_PROP_POS_MSEC\u001b[0m\u001b[0;34m)\u001b[0m\u001b[0;34m\u001b[0m\u001b[0m\n\u001b[1;32m      5\u001b[0m \u001b[0moffset2\u001b[0m \u001b[0;34m=\u001b[0m \u001b[0mclosest\u001b[0m\u001b[0;34m(\u001b[0m\u001b[0mimg\u001b[0m\u001b[0;34m,\u001b[0m \u001b[0mvid2\u001b[0m\u001b[0;34m)\u001b[0m\u001b[0;34m\u001b[0m\u001b[0m\n",
      "\u001b[0;31mNameError\u001b[0m: name 'vid1' is not defined"
     ]
    }
   ],
   "source": [
    "fps = 15 #int(vid.get(cv2.cv.CV_CAP_PROP_FPS))\n",
    "for i in xrange(0,3*fps):\n",
    "    ret, img = vid1.read()\n",
    "offset1 = vid1.get(cv2.cv.CV_CAP_PROP_POS_MSEC)\n",
    "offset2 = closest(img, vid2)"
   ]
  },
  {
   "cell_type": "code",
   "execution_count": null,
   "metadata": {
    "collapsed": true
   },
   "outputs": [],
   "source": []
  }
 ],
 "metadata": {
  "kernelspec": {
   "display_name": "Python 2",
   "language": "python",
   "name": "python2"
  },
  "language_info": {
   "codemirror_mode": {
    "name": "ipython",
    "version": 2
   },
   "file_extension": ".py",
   "mimetype": "text/x-python",
   "name": "python",
   "nbconvert_exporter": "python",
   "pygments_lexer": "ipython2",
   "version": "2.7.12"
  }
 },
 "nbformat": 4,
 "nbformat_minor": 1
}
