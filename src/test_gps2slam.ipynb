{
 "cells": [
  {
   "cell_type": "code",
   "execution_count": 1,
   "metadata": {
    "collapsed": true
   },
   "outputs": [],
   "source": [
    "import numpy as np\n",
    "import video_sync as vs\n",
    "import utm\n",
    "import math\n",
    "import random"
   ]
  },
  {
   "cell_type": "code",
   "execution_count": 2,
   "metadata": {
    "collapsed": true
   },
   "outputs": [],
   "source": [
    "def extract_gps_data(jsonfile):\n",
    "    data = vs.object_init(jsonfile)\n",
    "    lat = vs.extract_attribute(data,\"latitude\")\n",
    "    lon = vs.extract_attribute(data,\"longitude\")\n",
    "    acc = vs.extract_attribute(data,\"accuracy\")\n",
    "    time = np.array(vs.extract_attribute(data,\"timestamp\"))/1000\n",
    "    frame = vs.extract_attribute(data, \"frame\")\n",
    "\n",
    "    data_final = np.column_stack((time,frame,lat,lon,acc))\n",
    "    return data_final\n",
    "\n",
    "def extract_slam_data(trajectory):\n",
    "    f = open(trajectory, \"r\")\n",
    "    runs = []\n",
    "    data = []\n",
    "    for i,line in enumerate(f):\n",
    "        if line == \"################################################## \\n\":\n",
    "            if len(data) != 0:\n",
    "                runs.append(np.array(data,dtype='float'))\n",
    "                data = []\n",
    "        else:\n",
    "            l = line.split(\" \")\n",
    "            data.append(l[0:4])\n",
    "    runs.append(np.array(data,dtype='float'))\n",
    "    return runs"
   ]
  },
  {
   "cell_type": "code",
   "execution_count": 3,
   "metadata": {
    "collapsed": true
   },
   "outputs": [],
   "source": [
    "def time_sync(gps_data, slam_runs):\n",
    "    t1 = gps_data[0][0]\n",
    "    t2 = slam_runs[0][0][0]\n",
    "\n",
    "    offset = t2 - t1\n",
    "    for slam_data in slam_runs:\n",
    "        slam_data[:,0] = slam_data[:,0] - offset\n",
    "\n",
    "    return slam_runs\n"
   ]
  },
  {
   "cell_type": "code",
   "execution_count": 4,
   "metadata": {
    "collapsed": true
   },
   "outputs": [],
   "source": [
    "def sample_three(gps_data, slam_data):\n",
    "    #Find all the reasonably accurate GPS points (between 0 and 5 meters)    \n",
    "    start = np.searchsorted(gps_data[:,0],slam_data[0][0],'left')\n",
    "    end = np.searchsorted(gps_data[:,0], slam_data[-1][0],'left')\n",
    "    \n",
    "    good_points = np.where(np.logical_and(gps_data[start:end,4] > -1, gps_data[start:end,4]<20))\n",
    "    indices = np.array(random.sample(good_points[0],3)) + start\n",
    "    corsp_slam = []\n",
    "    for t in gps_data[indices][:,0]:\n",
    "        idx = np.searchsorted(slam_data[:,0],t, 'left')\n",
    "        corsp_slam.append(idx)\n",
    "\n",
    "    return gps_data[indices][:,[0,2,3]], slam_data[corsp_slam]"
   ]
  },
  {
   "cell_type": "code",
   "execution_count": 27,
   "metadata": {
    "collapsed": true
   },
   "outputs": [],
   "source": [
    "def scale_and_combine(gps_data, slam_data):\n",
    "    gps_samples,slam_samples =  sample_three(gps_data, slam_data)\n",
    "    utm_samples = []\n",
    "    for i in xrange(0,3):\n",
    "        u = list(utm.from_latlon(gps_samples[i][1], gps_samples[i][2]))[:2]\n",
    "        u.append(0)\n",
    "        utm_samples.append(u)\n",
    "\n",
    "    A = find_affine_transformation2(np.array(slam_samples[:,1:4]),np.array(utm_samples))\n",
    "    slam_converted = np.zeros((len(slam_data),3))\n",
    "    utm_conv = transform_pt2(slam_runs[2][:,[1,2,3]],A)\n",
    "    \n",
    "    for i,obv in enumerate(slam_data):\n",
    "        slam_converted[i][0] = obv[0]\n",
    "        ### One and Three are the two axis aligned to the plane.\n",
    "        gps_conv = utm.to_latlon(utm_conv[i][0], utm_conv[i][1],18, 'T')\n",
    "        print str(gps_conv[0]) + \",\"+ str(gps_conv[1])\n",
    "        slam_converted[i][1:3] = gps_conv\n",
    "\n",
    "    return slam_converted"
   ]
  },
  {
   "cell_type": "code",
   "execution_count": 6,
   "metadata": {
    "collapsed": true
   },
   "outputs": [],
   "source": [
    "def slam2gps(jsonfile, frametrajectory):   \n",
    "    gps_data = extract_gps_data(jsonfile)\n",
    "    slam_data = extract_slam_data(frametrajectory)\n",
    "    slam_data = time_sync(slam_data, gps_data)\n",
    "\n",
    "    location_data_final = scale_and_combine(gps_data, slam_data)\n",
    "\n",
    "    return location_data_final"
   ]
  },
  {
   "cell_type": "code",
   "execution_count": 7,
   "metadata": {
    "collapsed": true
   },
   "outputs": [],
   "source": [
    "def recover_homogenous_affine_transformation(p, p_prime):\n",
    "    '''\n",
    "    Find the unique homogeneous affine transformation that\n",
    "    maps a set of 3 points to another set of 3 points in 3D\n",
    "    space:\n",
    "\n",
    "        p_prime == np.dot(p, R) + t\n",
    "\n",
    "    where `R` is an unknown rotation matrix, `t` is an unknown\n",
    "    translation vector, and `p` and `p_prime` are the original\n",
    "    and transformed set of points stored as row vectors:\n",
    "\n",
    "        p       = np.array((p1,       p2,       p3))\n",
    "        p_prime = np.array((p1_prime, p2_prime, p3_prime))\n",
    "\n",
    "    '''\n",
    "\n",
    "    # construct intermediate matrix\n",
    "    Q       = p[1:]       - p[0]\n",
    "    Q_prime = p_prime[1:] - p_prime[0]\n",
    "\n",
    "    # calculate rotation matrix\n",
    "    R = np.dot(np.linalg.inv(np.row_stack((Q, np.cross(*Q)))),\n",
    "               np.row_stack((Q_prime, np.cross(*Q_prime))))\n",
    "\n",
    "    # calculate translation vector\n",
    "    t = p_prime[0] - np.dot(p[0], R)\n",
    "\n",
    "    # calculate affine transformation matrix\n",
    "    return np.column_stack((np.row_stack((R, t)),\n",
    "                            (0, 0, 0, 1)))\n",
    "\n",
    "\n",
    "\n",
    "def transform_pt(point, trans_mat):\n",
    "    a  = np.array([point[0], point[1], point[2], 1])\n",
    "    ap = np.dot(a, trans_mat)[:3]\n",
    "    return [ap[0], ap[1], ap[2]]\n",
    "\n"
   ]
  },
  {
   "cell_type": "code",
   "execution_count": 8,
   "metadata": {
    "collapsed": true
   },
   "outputs": [],
   "source": [
    "def find_affine_transformation2(p,p_prime):\n",
    "    pad = lambda x: np.hstack([x, np.ones((x.shape[0], 1))])\n",
    "    unpad = lambda x: x[:,:-1]\n",
    "    X = pad(p)\n",
    "    Y = pad(p_prime)\n",
    "\n",
    "    A, res, rank, s = np.linalg.lstsq(X,Y)\n",
    "\n",
    "    return A\n",
    "\n",
    "def transform_pt2(point,trans_mat):\n",
    "    pad = lambda x: np.hstack([x, np.ones((x.shape[0], 1))])\n",
    "    unpad = lambda x: x[:,:-1]\n",
    "\n",
    "    transform = lambda x:unpad(np.dot(pad(x),trans_mat))\n",
    "\n",
    "    return transform(point)"
   ]
  },
  {
   "cell_type": "code",
   "execution_count": 16,
   "metadata": {
    "collapsed": true
   },
   "outputs": [],
   "source": [
    "gps_data = extract_gps_data(\"/home/carmera/Documents/data/json/cds-1145ca086c7f4f26-20170608-0742.json\")\n",
    "slam_runs = extract_slam_data(\"/home/carmera/KeyFrame-test.txt\")\n",
    "slam_runs = time_sync(gps_data, slam_runs)"
   ]
  },
  {
   "cell_type": "code",
   "execution_count": 10,
   "metadata": {
    "collapsed": true
   },
   "outputs": [],
   "source": [
    "gps_samples,slam_samples =  sample_three(gps_data, slam_runs[2])\n",
    "utm_samples = []\n",
    "for i in xrange(0,3):\n",
    "    u = list(utm.from_latlon(gps_samples[i][1], gps_samples[i][2]))[:2]\n",
    "    u.append(0)\n",
    "    utm_samples.append(u)\n",
    "slam_samples = np.around(slam_samples,5)\n",
    "A = find_affine_transformation2(np.array(slam_samples[:,1:4]),np.array(utm_samples)) "
   ]
  },
  {
   "cell_type": "code",
   "execution_count": 45,
   "metadata": {},
   "outputs": [],
   "source": [
    "slam_data = slam_runs[2]\n",
    "start = np.searchsorted(gps_data[:,0],slam_data[0][0],'left')\n",
    "end = np.searchsorted(gps_data[:,0], slam_data[-1][0],'left')\n",
    "\n",
    "good_points = np.where(np.logical_and(gps_data[start:end,4] > -1, gps_data[start:end,4]<10))"
   ]
  },
  {
   "cell_type": "code",
   "execution_count": 65,
   "metadata": {},
   "outputs": [
    {
     "data": {
      "text/plain": [
       "array([[ 1,  2,  3,  4,  5,  6,  7,  8,  9, 10, 11, 12, 13, 14, 15, 16, 17,\n",
       "        18, 19, 20, 21, 22, 23, 24, 25, 26, 27, 28, 29, 30, 31, 32, 33, 34,\n",
       "        35, 36, 37, 38, 39, 40, 41, 42]])"
      ]
     },
     "execution_count": 65,
     "metadata": {},
     "output_type": "execute_result"
    }
   ],
   "source": [
    "indices"
   ]
  },
  {
   "cell_type": "code",
   "execution_count": 74,
   "metadata": {},
   "outputs": [
    {
     "name": "stdout",
     "output_type": "stream",
     "text": [
      "1496922180.0\n",
      "1496922182.0\n",
      "1496922184.0\n",
      "1496922186.0\n",
      "1496922188.0\n",
      "1496922190.0\n",
      "1496922192.0\n",
      "1496922194.0\n",
      "1496922196.0\n",
      "1496922198.0\n",
      "1496922200.0\n",
      "1496922202.0\n",
      "1496922204.0\n",
      "1496922206.0\n",
      "1496922208.0\n",
      "1496922210.0\n",
      "1496922212.0\n",
      "1496922214.0\n",
      "1496922216.0\n",
      "1496922218.0\n",
      "1496922220.0\n",
      "1496922222.0\n",
      "1496922224.0\n",
      "1496922226.0\n",
      "1496922228.0\n",
      "1496922230.0\n",
      "1496922232.0\n",
      "1496922234.0\n",
      "1496922236.0\n",
      "1496922238.0\n",
      "1496922240.0\n",
      "1496922242.0\n",
      "1496922244.0\n",
      "1496922246.0\n",
      "1496922248.0\n",
      "1496922250.0\n",
      "1496922252.0\n",
      "1496922254.0\n",
      "1496922256.0\n",
      "1496922258.0\n",
      "1496922260.0\n",
      "1496922262.0\n"
     ]
    }
   ],
   "source": [
    "corsp_slam = []\n",
    "for t in gps_data[:,0][indices][0]:\n",
    "    print t\n",
    "    idx = np.searchsorted(slam_data[:,0],t, 'left')\n",
    "    corsp_slam.append(idx)\n"
   ]
  },
  {
   "cell_type": "code",
   "execution_count": 69,
   "metadata": {},
   "outputs": [
    {
     "data": {
      "text/plain": [
       "array([  1.49692218e+09,   1.49692218e+09,   1.49692218e+09,\n",
       "         1.49692218e+09,   1.49692219e+09,   1.49692219e+09,\n",
       "         1.49692219e+09,   1.49692219e+09,   1.49692219e+09,\n",
       "         1.49692220e+09,   1.49692220e+09,   1.49692220e+09,\n",
       "         1.49692220e+09,   1.49692220e+09,   1.49692221e+09,\n",
       "         1.49692221e+09,   1.49692221e+09,   1.49692221e+09,\n",
       "         1.49692221e+09,   1.49692222e+09,   1.49692222e+09,\n",
       "         1.49692222e+09,   1.49692222e+09,   1.49692222e+09,\n",
       "         1.49692223e+09,   1.49692223e+09,   1.49692223e+09,\n",
       "         1.49692223e+09,   1.49692223e+09,   1.49692224e+09,\n",
       "         1.49692224e+09,   1.49692224e+09,   1.49692224e+09,\n",
       "         1.49692224e+09,   1.49692225e+09,   1.49692225e+09,\n",
       "         1.49692225e+09,   1.49692225e+09,   1.49692225e+09,\n",
       "         1.49692226e+09,   1.49692226e+09,   1.49692226e+09,\n",
       "         1.49692226e+09,   1.49692226e+09,   1.49692227e+09,\n",
       "         1.49692227e+09,   1.49692227e+09,   1.49692227e+09,\n",
       "         1.49692227e+09,   1.49692228e+09,   1.49692228e+09,\n",
       "         1.49692228e+09,   1.49692228e+09,   1.49692228e+09,\n",
       "         1.49692229e+09,   1.49692229e+09,   1.49692229e+09,\n",
       "         1.49692229e+09,   1.49692229e+09,   1.49692230e+09,\n",
       "         1.49692230e+09,   1.49692230e+09,   1.49692230e+09,\n",
       "         1.49692230e+09,   1.49692231e+09,   1.49692231e+09,\n",
       "         1.49692231e+09,   1.49692231e+09,   1.49692231e+09,\n",
       "         1.49692232e+09,   1.49692232e+09,   1.49692232e+09,\n",
       "         1.49692232e+09,   1.49692232e+09,   1.49692233e+09,\n",
       "         1.49692233e+09,   1.49692233e+09,   1.49692233e+09,\n",
       "         1.49692233e+09,   1.49692234e+09,   1.49692234e+09,\n",
       "         1.49692234e+09,   1.49692234e+09,   1.49692234e+09,\n",
       "         1.49692235e+09,   1.49692235e+09,   1.49692235e+09,\n",
       "         1.49692235e+09,   1.49692235e+09,   1.49692236e+09,\n",
       "         1.49692236e+09,   1.49692236e+09,   1.49692236e+09,\n",
       "         1.49692236e+09,   1.49692237e+09,   1.49692237e+09,\n",
       "         1.49692237e+09,   1.49692237e+09,   1.49692237e+09,\n",
       "         1.49692238e+09,   1.49692238e+09,   1.49692238e+09,\n",
       "         1.49692238e+09,   1.49692238e+09,   1.49692239e+09,\n",
       "         1.49692239e+09,   1.49692239e+09,   1.49692239e+09,\n",
       "         1.49692239e+09,   1.49692240e+09,   1.49692240e+09,\n",
       "         1.49692240e+09,   1.49692240e+09,   1.49692240e+09,\n",
       "         1.49692241e+09,   1.49692241e+09,   1.49692241e+09,\n",
       "         1.49692241e+09,   1.49692241e+09,   1.49692242e+09,\n",
       "         1.49692242e+09,   1.49692242e+09,   1.49692242e+09,\n",
       "         1.49692242e+09,   1.49692243e+09,   1.49692243e+09,\n",
       "         1.49692243e+09,   1.49692243e+09,   1.49692243e+09,\n",
       "         1.49692244e+09,   1.49692244e+09,   1.49692244e+09,\n",
       "         1.49692244e+09,   1.49692244e+09,   1.49692245e+09,\n",
       "         1.49692245e+09,   1.49692245e+09,   1.49692245e+09,\n",
       "         1.49692245e+09,   1.49692246e+09,   1.49692246e+09,\n",
       "         1.49692246e+09,   1.49692246e+09,   1.49692246e+09,\n",
       "         1.49692247e+09,   1.49692247e+09,   1.49692247e+09,\n",
       "         1.49692247e+09,   1.49692247e+09,   1.49692248e+09,\n",
       "         1.49692248e+09,   1.49692248e+09,   1.49692248e+09,\n",
       "         1.49692248e+09,   1.49692249e+09,   1.49692249e+09,\n",
       "         1.49692249e+09,   1.49692249e+09,   1.49692249e+09,\n",
       "         1.49692250e+09,   1.49692250e+09,   1.49692250e+09,\n",
       "         1.49692250e+09,   1.49692250e+09,   1.49692251e+09,\n",
       "         1.49692251e+09,   1.49692251e+09,   1.49692251e+09,\n",
       "         1.49692251e+09,   1.49692252e+09,   1.49692252e+09,\n",
       "         1.49692252e+09,   1.49692252e+09,   1.49692252e+09,\n",
       "         1.49692253e+09,   1.49692253e+09,   1.49692253e+09,\n",
       "         1.49692253e+09,   1.49692253e+09,   1.49692254e+09,\n",
       "         1.49692254e+09,   1.49692254e+09,   1.49692254e+09,\n",
       "         1.49692254e+09,   1.49692255e+09,   1.49692255e+09,\n",
       "         1.49692255e+09,   1.49692255e+09,   1.49692255e+09,\n",
       "         1.49692256e+09,   1.49692256e+09,   1.49692256e+09,\n",
       "         1.49692256e+09,   1.49692256e+09,   1.49692257e+09,\n",
       "         1.49692257e+09,   1.49692257e+09,   1.49692257e+09,\n",
       "         1.49692257e+09,   1.49692258e+09,   1.49692258e+09,\n",
       "         1.49692258e+09,   1.49692258e+09,   1.49692258e+09,\n",
       "         1.49692259e+09,   1.49692259e+09,   1.49692259e+09,\n",
       "         1.49692259e+09,   1.49692259e+09,   1.49692260e+09,\n",
       "         1.49692260e+09,   1.49692260e+09,   1.49692260e+09,\n",
       "         1.49692260e+09,   1.49692261e+09,   1.49692261e+09,\n",
       "         1.49692261e+09,   1.49692261e+09,   1.49692261e+09,\n",
       "         1.49692262e+09,   1.49692262e+09,   1.49692262e+09,\n",
       "         1.49692262e+09,   1.49692262e+09,   1.49692263e+09,\n",
       "         1.49692263e+09,   1.49692263e+09,   1.49692263e+09,\n",
       "         1.49692263e+09,   1.49692264e+09,   1.49692264e+09,\n",
       "         1.49692264e+09,   1.49692264e+09,   1.49692264e+09,\n",
       "         1.49692265e+09,   1.49692265e+09,   1.49692265e+09,\n",
       "         1.49692265e+09,   1.49692265e+09,   1.49692266e+09,\n",
       "         1.49692266e+09,   1.49692266e+09,   1.49692266e+09,\n",
       "         1.49692266e+09,   1.49692267e+09,   1.49692267e+09,\n",
       "         1.49692267e+09,   1.49692267e+09,   1.49692267e+09,\n",
       "         1.49692268e+09,   1.49692268e+09,   1.49692268e+09,\n",
       "         1.49692268e+09,   1.49692268e+09,   1.49692269e+09,\n",
       "         1.49692269e+09,   1.49692269e+09,   1.49692269e+09,\n",
       "         1.49692269e+09,   1.49692270e+09,   1.49692270e+09,\n",
       "         1.49692270e+09,   1.49692270e+09,   1.49692270e+09,\n",
       "         1.49692271e+09,   1.49692271e+09,   1.49692271e+09,\n",
       "         1.49692271e+09,   1.49692271e+09,   1.49692272e+09,\n",
       "         1.49692272e+09,   1.49692272e+09,   1.49692272e+09,\n",
       "         1.49692272e+09,   1.49692273e+09,   1.49692273e+09,\n",
       "         1.49692273e+09,   1.49692273e+09,   1.49692273e+09,\n",
       "         1.49692274e+09,   1.49692274e+09,   1.49692274e+09,\n",
       "         1.49692274e+09,   1.49692274e+09,   1.49692275e+09,\n",
       "         1.49692275e+09,   1.49692275e+09,   1.49692275e+09,\n",
       "         1.49692275e+09,   1.49692276e+09,   1.49692276e+09,\n",
       "         1.49692276e+09,   1.49692276e+09,   1.49692276e+09,\n",
       "         1.49692277e+09,   1.49692277e+09,   1.49692277e+09,\n",
       "         1.49692277e+09,   1.49692277e+09,   1.49692278e+09])"
      ]
     },
     "execution_count": 69,
     "metadata": {},
     "output_type": "execute_result"
    }
   ],
   "source": []
  },
  {
   "cell_type": "code",
   "execution_count": 54,
   "metadata": {},
   "outputs": [
    {
     "name": "stdout",
     "output_type": "stream",
     "text": [
      "1496922179.27\n",
      "1496922179.6\n",
      "1496922180.0\n",
      "1496922180.2\n",
      "1496922180.6\n",
      "1496922180.81\n",
      "1496922182.07\n",
      "1496922182.54\n",
      "1496922182.94\n",
      "1496922183.33\n",
      "1496922183.87\n",
      "1496922184.47\n",
      "1496922185.07\n",
      "1496922185.54\n",
      "1496922186.13\n",
      "1496922186.67\n",
      "1496922187.14\n",
      "1496922187.68\n",
      "1496922188.01\n",
      "1496922188.53\n",
      "1496922188.87\n",
      "1496922189.2\n",
      "1496922189.6\n",
      "1496922189.87\n",
      "1496922190.14\n",
      "1496922190.4\n",
      "1496922190.74\n",
      "1496922191.21\n",
      "1496922191.67\n",
      "1496922192.07\n",
      "1496922192.47\n",
      "1496922192.87\n",
      "1496922193.47\n",
      "1496922194.41\n",
      "1496922195.4\n",
      "1496922196.13\n",
      "1496922197.0\n",
      "1496922197.61\n",
      "1496922198.34\n",
      "1496922199.14\n",
      "1496922199.54\n",
      "1496922200.67\n",
      "1496922211.4\n",
      "1496922249.54\n",
      "1496922250.13\n",
      "1496922250.67\n",
      "1496922251.33\n",
      "1496922251.94\n",
      "1496922252.67\n",
      "1496922253.47\n",
      "1496922254.2\n",
      "1496922255.0\n",
      "1496922255.81\n",
      "1496922256.67\n",
      "1496922257.47\n",
      "1496922258.27\n",
      "1496922259.0\n",
      "1496922259.74\n",
      "1496922260.27\n",
      "1496922261.2\n",
      "1496922261.73\n",
      "1496922262.21\n",
      "1496922262.53\n",
      "1496922263.07\n",
      "1496922263.47\n"
     ]
    }
   ],
   "source": [
    "for x in slam_data:\n",
    "    print x[0]"
   ]
  },
  {
   "cell_type": "code",
   "execution_count": 63,
   "metadata": {},
   "outputs": [
    {
     "data": {
      "text/plain": [
       "array([  1.49692218e+09,  -1.00000000e+00,   4.07191666e+01,\n",
       "        -7.39435647e+01,   0.00000000e+00])"
      ]
     },
     "execution_count": 63,
     "metadata": {},
     "output_type": "execute_result"
    }
   ],
   "source": [
    "gps_data[indices][0][0]"
   ]
  },
  {
   "cell_type": "code",
   "execution_count": null,
   "metadata": {
    "collapsed": true
   },
   "outputs": [],
   "source": []
  }
 ],
 "metadata": {
  "kernelspec": {
   "display_name": "Python 2",
   "language": "python",
   "name": "python2"
  },
  "language_info": {
   "codemirror_mode": {
    "name": "ipython",
    "version": 2
   },
   "file_extension": ".py",
   "mimetype": "text/x-python",
   "name": "python",
   "nbconvert_exporter": "python",
   "pygments_lexer": "ipython2",
   "version": "2.7.12"
  }
 },
 "nbformat": 4,
 "nbformat_minor": 2
}
