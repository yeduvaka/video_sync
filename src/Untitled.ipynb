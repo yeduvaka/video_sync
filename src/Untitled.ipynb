{
 "cells": [
  {
   "cell_type": "code",
   "execution_count": 1,
   "metadata": {
    "collapsed": true
   },
   "outputs": [],
   "source": [
    "import boto\n",
    "import boto.s3.connection\n",
    "import sys,os\n",
    "from boto.exception import S3ResponseError"
   ]
  },
  {
   "cell_type": "code",
   "execution_count": 2,
   "metadata": {
    "collapsed": true
   },
   "outputs": [],
   "source": [
    "# Let's use Amazon S3\n",
    "conn = boto.connect_s3()\n",
    "videos = conn.get_bucket('carmera-videos')\n",
    "jsons = conn.get_bucket('carmera-sensor-data')"
   ]
  },
  {
   "cell_type": "code",
   "execution_count": 4,
   "metadata": {
    "collapsed": true,
    "scrolled": true
   },
   "outputs": [],
   "source": [
    "for vid in list(videos.list(\"20170706/aa227\",\"\")):\n",
    "    key_string = str(vid.key)[-37:]\n",
    "    s3_path = \"/home/carmera/Documents/data/\" + key_string\n",
    "    if not os.path.exists(s3_path):\n",
    "        print \"Downloading \" + s3_path\n",
    "        l.get_contents_to_filename(s3_path)"
   ]
  },
  {
   "cell_type": "code",
   "execution_count": 6,
   "metadata": {},
   "outputs": [
    {
     "name": "stdout",
     "output_type": "stream",
     "text": [
      "Downloading /home/carmera/Documents/data/json//cds-aa227e436181738-20170706-0632.json.gz\n",
      "Downloading /home/carmera/Documents/data/json//cds-aa227e436181738-20170706-0715.json.gz\n",
      "Downloading /home/carmera/Documents/data/json//cds-aa227e436181738-20170706-0729.json.gz\n",
      "Downloading /home/carmera/Documents/data/json//cds-aa227e436181738-20170706-0737.json.gz\n",
      "Downloading /home/carmera/Documents/data/json//cds-aa227e436181738-20170706-0747.json.gz\n",
      "Downloading /home/carmera/Documents/data/json//cds-aa227e436181738-20170706-0757.json.gz\n",
      "Downloading /home/carmera/Documents/data/json//cds-aa227e436181738-20170706-0807.json.gz\n",
      "Downloading /home/carmera/Documents/data/json//cds-aa227e436181738-20170706-0814.json.gz\n",
      "Downloading /home/carmera/Documents/data/json//cds-aa227e436181738-20170706-0824.json.gz\n",
      "Downloading /home/carmera/Documents/data/json//cds-aa227e436181738-20170706-0834.json.gz\n",
      "Downloading /home/carmera/Documents/data/json//cds-aa227e436181738-20170706-0844.json.gz\n",
      "Downloading /home/carmera/Documents/data/json//cds-aa227e436181738-20170706-0854.json.gz\n",
      "Downloading /home/carmera/Documents/data/json//cds-aa227e436181738-20170706-0914.json.gz\n",
      "Downloading /home/carmera/Documents/data/json//cds-aa227e436181738-20170706-1013.json.gz\n",
      "Downloading /home/carmera/Documents/data/json//cds-aa227e436181738-20170706-1023.json.gz\n",
      "Downloading /home/carmera/Documents/data/json//cds-aa227e436181738-20170706-1039.json.gz\n",
      "Downloading /home/carmera/Documents/data/json//cds-aa227e436181738-20170706-1049.json.gz\n",
      "Downloading /home/carmera/Documents/data/json//cds-aa227e436181738-20170706-1059.json.gz\n",
      "Downloading /home/carmera/Documents/data/json//cds-aa227e436181738-20170706-1109.json.gz\n",
      "Downloading /home/carmera/Documents/data/json//cds-aa227e436181738-20170706-1513.json.gz\n",
      "Downloading /home/carmera/Documents/data/json//cds-aa227e436181738-20170706-1523.json.gz\n",
      "Downloading /home/carmera/Documents/data/json//cds-aa227e436181738-20170706-1533.json.gz\n",
      "Downloading /home/carmera/Documents/data/json//cds-aa227e436181738-20170706-1543.json.gz\n",
      "Downloading /home/carmera/Documents/data/json//cds-aa227e436181738-20170706-1553.json.gz\n",
      "Downloading /home/carmera/Documents/data/json//cds-aa227e436181738-20170706-1603.json.gz\n",
      "Downloading /home/carmera/Documents/data/json//cds-aa227e436181738-20170706-1647.json.gz\n",
      "Downloading /home/carmera/Documents/data/json//cds-aa227e436181738-20170706-1657.json.gz\n"
     ]
    }
   ],
   "source": [
    "for json in list(jsons.list(\"20170706/aa227\",\"\")):\n",
    "    key_string = str(json.key)[-42:]\n",
    "    s3_path = \"/home/carmera/Documents/data/json/\" + key_string\n",
    "    if not os.path.exists(s3_path):\n",
    "        print \"Downloading \" + s3_path\n",
    "        json.get_contents_to_filename(s3_path)"
   ]
  },
  {
   "cell_type": "code",
   "execution_count": null,
   "metadata": {
    "collapsed": true
   },
   "outputs": [],
   "source": []
  }
 ],
 "metadata": {
  "kernelspec": {
   "display_name": "Python 2",
   "language": "python",
   "name": "python2"
  },
  "language_info": {
   "codemirror_mode": {
    "name": "ipython",
    "version": 2
   },
   "file_extension": ".py",
   "mimetype": "text/x-python",
   "name": "python",
   "nbconvert_exporter": "python",
   "pygments_lexer": "ipython2",
   "version": "2.7.12"
  }
 },
 "nbformat": 4,
 "nbformat_minor": 2
}
