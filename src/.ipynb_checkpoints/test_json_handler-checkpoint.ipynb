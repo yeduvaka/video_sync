{
 "cells": [
  {
   "cell_type": "markdown",
   "metadata": {},
   "source": [
    "## Test file for video synchronisation\n",
    "#### Author: Aravind Yeduvaka"
   ]
  },
  {
   "cell_type": "code",
   "execution_count": 4,
   "metadata": {
    "collapsed": true
   },
   "outputs": [],
   "source": [
    "hostname='localhost'\n",
    "username='carmera'\n",
    "password='carmera123'\n",
    "database='carmera'"
   ]
  },
  {
   "cell_type": "code",
   "execution_count": 1,
   "metadata": {
    "collapsed": true
   },
   "outputs": [],
   "source": [
    "import numpy as np\n",
    "import json\n",
    "import cv2\n",
    "import psycopg2 as psql"
   ]
  },
  {
   "cell_type": "code",
   "execution_count": 2,
   "metadata": {
    "collapsed": true
   },
   "outputs": [],
   "source": [
    "def extract_attribute(j_object,attr):\n",
    "    attr_values = []\n",
    "    for i in range(0, len(j_object)):\n",
    "        attr_values.append(j_object[i][attr])\n",
    "    return attr_values\n",
    "\n",
    "\n",
    "def object_init(filename):\n",
    "    data = []\n",
    "    with open(filename) as dfile:\n",
    "        for line in dfile:\n",
    "            data.append(json.loads(line))\n",
    "    return data\n",
    "\n",
    "\n",
    "\n",
    "def extract_gps_data(jsonfile):\n",
    "    data = object_init(jsonfile)\n",
    "    lat = extract_attribute(data,\"latitude\")\n",
    "    lon = extract_attribute(data,\"longitude\")\n",
    "    acc = extract_attribute(data,\"accuracy\")\n",
    "    time = extract_attribute(data,\"timestamp\")\n",
    "    frame = extract_attribute(data, \"frame\")\n",
    "\n",
    "    data_final = np.column_stack((time,frame,lat,lon,acc))\n",
    "    return data_final\n",
    "\n",
    "def extract_gps_from_sensor_data(video):\n",
    "    conn = psql.connect(host=hostname, user=username, password=password,dbname= database)\n",
    "    cur = conn.cursor()\n",
    "    cmd =  \"SELECT extract(epoch FROM timestamp),frame_number,st_y(snapped_location), st_x(snapped_location),accuracy FROM sensor_data WHERE filename='\" + video + \"'\"\n",
    "    cur.execute(cmd)\n",
    "    data = cur.fetchall()\n",
    "    data = np.array(data)\n",
    "    print data\n",
    "    start_frame = 0\n",
    "    for i in xrange(0, len(data)):\n",
    "        if 0 < data[i,1] < 100:\n",
    "            start_frame = i\n",
    "            break\n",
    "\n",
    "    return data[start_frame:]\n",
    "\n",
    "\n",
    "def SaveGPSData(gps_data, jsonfile):\n",
    "    file = open(jsonfile[:-5] + \"-gps.txt\", 'w')\n",
    "    for x in gps_data: \n",
    "        file.write(str(x[2]) + \",\" +str(x[3]) + \"\\n\")\n"
   ]
  },
  {
   "cell_type": "code",
   "execution_count": null,
   "metadata": {
    "collapsed": true
   },
   "outputs": [],
   "source": []
  },
  {
   "cell_type": "code",
   "execution_count": 10,
   "metadata": {},
   "outputs": [
    {
     "name": "stdout",
     "output_type": "stream",
     "text": [
      "[[  1.49960736e+09   8.78200000e+03   4.07013250e+01  -7.39936470e+01\n",
      "    3.90000000e+00]\n",
      " [  1.49960737e+09   1.80000000e+01   4.07013250e+01  -7.39936470e+01\n",
      "    3.90000000e+00]\n",
      " [  1.49960737e+09   4.80000000e+01   4.07013250e+01  -7.39936470e+01\n",
      "    3.90000000e+00]\n",
      " ..., \n",
      " [  1.49960796e+09   8.70500000e+03   4.07073670e+01  -7.40024460e+01\n",
      "    1.00000000e+01]\n",
      " [  1.49960796e+09   8.73500000e+03   4.07073670e+01  -7.40024460e+01\n",
      "    1.00000000e+01]\n",
      " [  1.49960796e+09   8.76200000e+03   4.07073670e+01  -7.40024460e+01\n",
      "    9.00000000e+00]]\n"
     ]
    }
   ],
   "source": [
    "video = \"cds-aa227e436181738-20170709-0935.mp4\"\n",
    "jsonfile = \"/home/carmera/Documents/data/json/cds-aa227e436181738-20170709-0935.json\"\n",
    "gps_data = extract_gps_from_sensor_data(video)\n",
    "#gps_data = extract_gps_data(jsonfile)\n",
    "SaveGPSData(gps_data,jsonfile)"
   ]
  },
  {
   "cell_type": "code",
   "execution_count": 15,
   "metadata": {},
   "outputs": [
    {
     "data": {
      "text/plain": [
       "2"
      ]
     },
     "execution_count": 15,
     "metadata": {},
     "output_type": "execute_result"
    }
   ],
   "source": []
  },
  {
   "cell_type": "code",
   "execution_count": null,
   "metadata": {
    "collapsed": true
   },
   "outputs": [],
   "source": []
  }
 ],
 "metadata": {
  "kernelspec": {
   "display_name": "Python 2",
   "language": "python",
   "name": "python2"
  },
  "language_info": {
   "codemirror_mode": {
    "name": "ipython",
    "version": 2
   },
   "file_extension": ".py",
   "mimetype": "text/x-python",
   "name": "python",
   "nbconvert_exporter": "python",
   "pygments_lexer": "ipython2",
   "version": "2.7.12"
  }
 },
 "nbformat": 4,
 "nbformat_minor": 1
}
