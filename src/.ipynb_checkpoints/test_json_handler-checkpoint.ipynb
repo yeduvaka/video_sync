{
 "cells": [
  {
   "cell_type": "markdown",
   "metadata": {},
   "source": [
    "## Test file for video synchronisation\n",
    "#### Author: Aravind Yeduvaka"
   ]
  },
  {
   "cell_type": "code",
   "execution_count": 9,
   "metadata": {
    "collapsed": true
   },
   "outputs": [],
   "source": [
    "import numpy as np\n",
    "import cv2\n",
    "import json\n",
    "from pprint import pprint\n",
    "import MySQLdb"
   ]
  },
  {
   "cell_type": "code",
   "execution_count": 2,
   "metadata": {
    "collapsed": true
   },
   "outputs": [],
   "source": [
    "def extract_attribute(j_object,attr):\n",
    "    attr_values = []\n",
    "    for i in xrange(0, len(j_object)):\n",
    "        attr_values.append(j_object[i][attr])\n",
    "    return attr_values\n",
    "\n",
    "\n",
    "def object_init(filename):\n",
    "    data = []\n",
    "    with open(filename) as dfile:\n",
    "        for line in dfile:\n",
    "            data.append(json.loads(line))\n",
    "    return data"
   ]
  },
  {
   "cell_type": "code",
   "execution_count": 5,
   "metadata": {},
   "outputs": [],
   "source": [
    "v1 = object_init(\"../data/json/cds-1145ca086c7f4f26-20170608-0742.json\")\n",
    "v2 = object_init(\"../data/json/cds-7140b2932bb0c06e-20170608-0742.json\")"
   ]
  },
  {
   "cell_type": "code",
   "execution_count": 24,
   "metadata": {},
   "outputs": [
    {
     "name": "stdout",
     "output_type": "stream",
     "text": [
      "1145ca086c7f4f26 7140b2932bb0c06e\n"
     ]
    }
   ],
   "source": [
    "t1 = extract_attribute(v1,\"timestamp\")\n",
    "t2 = extract_attribute(v2, \"timestamp\")\n",
    "\n",
    "f1 = extract_attribute(v1, \"file\")[0]\n",
    "f2 = extract_attribute(v2, \"file\")[0]\n",
    "\n",
    "sensor_id1 = f1.split('-')[1]\n",
    "sensor_id2 = f2.split('-')[1]\n",
    "\n",
    "print sensor_id1, sensor_id2"
   ]
  },
  {
   "cell_type": "code",
   "execution_count": 10,
   "metadata": {},
   "outputs": [],
   "source": [
    "db = MySQLdb.connect('localhost', 'root','carmera123', 'db_pings')"
   ]
  },
  {
   "cell_type": "code",
   "execution_count": 29,
   "metadata": {},
   "outputs": [],
   "source": [
    "cur = db.cursor()\n",
    "results = cur.execute(\"SELECT * FROM raw_pings WHERE timestamp= \\'\" + str(t1[0]/1000)+\"\\'\"\n",
    "                     \"AND sensor_id=\"+ \"\\'\" + str(sensor_id1)+ \"\\'\" )"
   ]
  },
  {
   "cell_type": "code",
   "execution_count": 30,
   "metadata": {},
   "outputs": [
    {
     "data": {
      "text/plain": [
       "0L"
      ]
     },
     "execution_count": 30,
     "metadata": {},
     "output_type": "execute_result"
    }
   ],
   "source": [
    "results"
   ]
  },
  {
   "cell_type": "code",
   "execution_count": null,
   "metadata": {
    "collapsed": true
   },
   "outputs": [],
   "source": []
  }
 ],
 "metadata": {
  "kernelspec": {
   "display_name": "Python 2",
   "language": "python",
   "name": "python2"
  },
  "language_info": {
   "codemirror_mode": {
    "name": "ipython",
    "version": 2
   },
   "file_extension": ".py",
   "mimetype": "text/x-python",
   "name": "python",
   "nbconvert_exporter": "python",
   "pygments_lexer": "ipython2",
   "version": "2.7.12"
  }
 },
 "nbformat": 4,
 "nbformat_minor": 1
}
