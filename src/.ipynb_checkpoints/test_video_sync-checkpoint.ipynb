{
 "cells": [
  {
   "cell_type": "markdown",
   "metadata": {},
   "source": [
    "## Test file for video synchronisation\n",
    "#### Author: Aravind Yeduvaka"
   ]
  },
  {
   "cell_type": "code",
   "execution_count": 6,
   "metadata": {
    "collapsed": true
   },
   "outputs": [],
   "source": [
    "import numpy as np\n",
    "import cv2\n",
    "import sys"
   ]
  },
  {
   "cell_type": "code",
   "execution_count": 7,
   "metadata": {
    "collapsed": true
   },
   "outputs": [],
   "source": [
    "##Check if the videos are at least roughly from the same time (+/- 5 secs)\n",
    "pass"
   ]
  },
  {
   "cell_type": "code",
   "execution_count": 8,
   "metadata": {},
   "outputs": [],
   "source": [
    "def sim(pic1, pic2):\n",
    "    pic_norm1 = pic1/np.sqrt(np.sum(pic1**2))\n",
    "    pic_norm2 = pic2/np.sqrt(np.sum(pic2**2))\n",
    "    \n",
    "    return np.sum(pic_norm1*pic_norm2)"
   ]
  },
  {
   "cell_type": "code",
   "execution_count": 29,
   "metadata": {
    "collapsed": true
   },
   "outputs": [],
   "source": [
    "def closest(pic,vid):\n",
    "    fps = 15 #int(vid.get(cv2.cv.CV_CAP_PROP_FPS))\n",
    "    best_sim = -sys.maxint\n",
    "    offset = 0\n",
    "    for i in xrange(0, 10*fps):\n",
    "        ret, img = vid.read()\n",
    "        similarity = sim(img, pic)\n",
    "        if similarity > best_sim:\n",
    "            offset = vid.get(cv2.cv.CV_CAP_PROP_POS_MSEC)\n",
    "    return offset"
   ]
  },
  {
   "cell_type": "code",
   "execution_count": 30,
   "metadata": {},
   "outputs": [],
   "source": [
    "vid1 = cv2.VideoCapture(\"../data/test3.mp4\")\n",
    "vid2 = cv2.VideoCapture(\"../data/test4.mp4\")"
   ]
  },
  {
   "cell_type": "code",
   "execution_count": 31,
   "metadata": {},
   "outputs": [],
   "source": [
    "fps = 15 #int(vid.get(cv2.cv.CV_CAP_PROP_FPS))\n",
    "for i in xrange(0,3*fps):\n",
    "    ret, img = vid1.read()\n",
    "offset1 = vid1.get(cv2.cv.CV_CAP_PROP_POS_MSEC)\n",
    "offset2 = closest(img, vid2)"
   ]
  },
  {
   "cell_type": "code",
   "execution_count": 32,
   "metadata": {},
   "outputs": [
    {
     "data": {
      "text/plain": [
       "(3100.295186299468, 5142.744127130354)"
      ]
     },
     "execution_count": 32,
     "metadata": {},
     "output_type": "execute_result"
    }
   ],
   "source": [
    "offset1, offset2"
   ]
  },
  {
   "cell_type": "code",
   "execution_count": null,
   "metadata": {
    "collapsed": true
   },
   "outputs": [],
   "source": [
    ""
   ]
  },
  {
   "cell_type": "code",
   "execution_count": null,
   "metadata": {
    "collapsed": true
   },
   "outputs": [],
   "source": [
    ""
   ]
  }
 ],
 "metadata": {
  "kernelspec": {
   "display_name": "Python 2",
   "language": "python",
   "name": "python2"
  },
  "language_info": {
   "codemirror_mode": {
    "name": "ipython",
    "version": 2.0
   },
   "file_extension": ".py",
   "mimetype": "text/x-python",
   "name": "python",
   "nbconvert_exporter": "python",
   "pygments_lexer": "ipython2",
   "version": "2.7.12"
  }
 },
 "nbformat": 4,
 "nbformat_minor": 0
}