{
 "cells": [
  {
   "cell_type": "markdown",
   "metadata": {
    "deletable": true,
    "editable": true
   },
   "source": [
    "## Test file for video synchronisation\n",
    "#### Author: Aravind Yeduvaka"
   ]
  },
  {
   "cell_type": "code",
   "execution_count": 4,
   "metadata": {
    "collapsed": false,
    "deletable": true,
    "editable": true
   },
   "outputs": [],
   "source": [
    "import numpy as np\n",
    "import json"
   ]
  },
  {
   "cell_type": "code",
   "execution_count": 7,
   "metadata": {
    "collapsed": true,
    "deletable": true,
    "editable": true
   },
   "outputs": [],
   "source": [
    "def extract_attribute(j_object,attr):\n",
    "    attr_values = []\n",
    "    for i in xrange(0, len(j_object)):\n",
    "        attr_values.append(j_object[i][attr])\n",
    "    return attr_values\n",
    "\n",
    "\n",
    "def object_init(filename):\n",
    "    data = []\n",
    "    with open(filename) as dfile:\n",
    "        for line in dfile:\n",
    "            data.append(json.loads(line))\n",
    "    return data\n",
    "\n",
    "\n",
    "\n",
    "def extract_gps_data(jsonfile):\n",
    "    data = object_init(jsonfile)\n",
    "    lat = extract_attribute(data,\"latitude\")\n",
    "    lon = extract_attribute(data,\"longitude\")\n",
    "    acc = extract_attribute(data,\"accuracy\")\n",
    "    time = extract_attribute(data,\"timestamp\")\n",
    "    frame = extract_attribute(data, \"frame\")\n",
    "\n",
    "    data_final = np.column_stack((time,frame,lat,lon,acc))\n",
    "    return data_final\n"
   ]
  },
  {
   "cell_type": "code",
   "execution_count": 8,
   "metadata": {
    "collapsed": true,
    "deletable": true,
    "editable": true
   },
   "outputs": [],
   "source": [
    "v1 = object_init(\"../../data/json/cds-1145ca086c7f4f26-20170608-0742.json\")"
   ]
  },
  {
   "cell_type": "code",
   "execution_count": 9,
   "metadata": {
    "collapsed": true,
    "deletable": true,
    "editable": true
   },
   "outputs": [],
   "source": [
    "data = extract_gps_data(\"../../data/json/cds-1145ca086c7f4f26-20170608-0742.json\")\n"
   ]
  },
  {
   "cell_type": "code",
   "execution_count": 10,
   "metadata": {
    "collapsed": false,
    "deletable": true,
    "editable": true
   },
   "outputs": [
    {
     "data": {
      "text/plain": [
       "array([[  1.49692218e+12,   8.94200000e+03,   4.07191993e+01,\n",
       "         -7.39435946e+01,   0.00000000e+00],\n",
       "       [  1.49692218e+12,  -1.00000000e+00,   4.07191666e+01,\n",
       "         -7.39435647e+01,   0.00000000e+00],\n",
       "       [  1.49692218e+12,   1.00000000e+01,   4.07189668e+01,\n",
       "         -7.39434810e+01,   0.00000000e+00],\n",
       "       ..., \n",
       "       [  1.49692277e+12,   8.83200000e+03,   4.07015620e+01,\n",
       "         -7.39368264e+01,   0.00000000e+00],\n",
       "       [  1.49692277e+12,   8.86300000e+03,   4.07013212e+01,\n",
       "         -7.39367340e+01,   0.00000000e+00],\n",
       "       [  1.49692278e+12,   8.89300000e+03,   4.07013212e+01,\n",
       "         -7.39367340e+01,   0.00000000e+00]])"
      ]
     },
     "execution_count": 10,
     "metadata": {},
     "output_type": "execute_result"
    }
   ],
   "source": [
    "data"
   ]
  },
  {
   "cell_type": "code",
   "execution_count": 6,
   "metadata": {
    "collapsed": true,
    "deletable": true,
    "editable": true
   },
   "outputs": [],
   "source": [
    "cur = db.cursor() \n",
    "cmd1 = \"SELECT * FROM raw_pings WHERE (\" + \"sensor_id=\\'\" + str(sensor_id1)\n",
    "cmd1 += \"\\'\"+\" AND timestamp>\" + str(t1 - 100000) \n",
    "cmd1 += \" AND timestamp<\" +str(t1)\n",
    "cmd1 += \" AND json_blob LIKE \\'%POWER_CHANGE%\\') ORDER BY timestamp ASC LIMIT 1\""
   ]
  },
  {
   "cell_type": "code",
   "execution_count": 12,
   "metadata": {
    "collapsed": true,
    "deletable": true,
    "editable": true
   },
   "outputs": [],
   "source": [
    "cmd2 = \"SELECT * FROM raw_pings WHERE (\" + \"sensor_id=\\'\" + str(sensor_id2)\n",
    "cmd2 += \"\\'\"+\" AND timestamp>\" + str(t2 - 100000) \n",
    "cmd2 += \" AND timestamp<\" +str(t2)\n",
    "cmd2 += \" AND json_blob LIKE \\'%POWER_CHANGE%\\') ORDER BY timestamp ASC LIMIT 1\""
   ]
  },
  {
   "cell_type": "code",
   "execution_count": 13,
   "metadata": {
    "collapsed": true,
    "deletable": true,
    "editable": true
   },
   "outputs": [],
   "source": [
    "cur.execute(cmd1)\n",
    "res1 = cur.fetchone()\n",
    "cur.execute(cmd2)\n",
    "res2 = cur.fetchone()"
   ]
  },
  {
   "cell_type": "code",
   "execution_count": 15,
   "metadata": {
    "collapsed": false,
    "deletable": true,
    "editable": true
   },
   "outputs": [
    {
     "name": "stdout",
     "output_type": "stream",
     "text": [
      "52\n"
     ]
    }
   ],
   "source": [
    "print res1[1]-res2[1]"
   ]
  },
  {
   "cell_type": "code",
   "execution_count": 17,
   "metadata": {
    "collapsed": false,
    "deletable": true,
    "editable": true
   },
   "outputs": [
    {
     "data": {
      "text/plain": [
       "(1496831528L, 1496831476L)"
      ]
     },
     "execution_count": 17,
     "metadata": {},
     "output_type": "execute_result"
    }
   ],
   "source": [
    "res1[1], res2[1]"
   ]
  }
 ],
 "metadata": {
  "kernelspec": {
   "display_name": "Python 2",
   "language": "python",
   "name": "python2"
  },
  "language_info": {
   "codemirror_mode": {
    "name": "ipython",
    "version": 2
   },
   "file_extension": ".py",
   "mimetype": "text/x-python",
   "name": "python",
   "nbconvert_exporter": "python",
   "pygments_lexer": "ipython2",
   "version": "2.7.12"
  }
 },
 "nbformat": 4,
 "nbformat_minor": 1
}
