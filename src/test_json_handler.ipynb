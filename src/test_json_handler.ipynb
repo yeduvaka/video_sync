{
 "cells": [
  {
   "cell_type": "markdown",
   "metadata": {},
   "source": [
    "## Test file for video synchronisation\n",
    "#### Author: Aravind Yeduvaka"
   ]
  },
  {
   "cell_type": "code",
   "execution_count": 1,
   "metadata": {
    "collapsed": true
   },
   "outputs": [],
   "source": [
    "import numpy as np\n",
    "import json"
   ]
  },
  {
   "cell_type": "code",
   "execution_count": 2,
   "metadata": {
    "collapsed": true
   },
   "outputs": [],
   "source": [
    "def extract_attribute(j_object,attr):\n",
    "    attr_values = []\n",
    "    for i in xrange(0, len(j_object)):\n",
    "        attr_values.append(j_object[i][attr])\n",
    "    return attr_values\n",
    "\n",
    "\n",
    "def object_init(filename):\n",
    "    data = []\n",
    "    with open(filename) as dfile:\n",
    "        for line in dfile:\n",
    "            data.append(json.loads(line))\n",
    "    return data\n",
    "\n",
    "\n",
    "\n",
    "def extract_gps_data(jsonfile):\n",
    "    data = object_init(jsonfile)\n",
    "    lat = extract_attribute(data,\"latitude\")\n",
    "    lon = extract_attribute(data,\"longitude\")\n",
    "    acc = extract_attribute(data,\"accuracy\")\n",
    "    time = extract_attribute(data,\"timestamp\")\n",
    "    frame = extract_attribute(data, \"frame\")\n",
    "\n",
    "    data_final = np.column_stack((time,frame,lat,lon,acc))\n",
    "    return data_final\n"
   ]
  },
  {
   "cell_type": "code",
   "execution_count": 3,
   "metadata": {
    "collapsed": true
   },
   "outputs": [],
   "source": [
    "data = extract_gps_data(\"../../data/json/cds-1145ca086c7f4f26-20170608-0742.json\")\n"
   ]
  },
  {
   "cell_type": "code",
   "execution_count": 42,
   "metadata": {},
   "outputs": [
    {
     "data": {
      "text/plain": [
       "array([[  1.49692218e+12,  -1.00000000e+00,   4.07191666e+01,\n",
       "         -7.39435647e+01,   0.00000000e+00],\n",
       "       [  1.49692218e+12,   1.00000000e+01,   4.07189668e+01,\n",
       "         -7.39434810e+01,   0.00000000e+00],\n",
       "       [  1.49692219e+12,   7.00000000e+01,   4.07187608e+01,\n",
       "         -7.39434075e+01,   0.00000000e+00],\n",
       "       [  1.49692220e+12,   2.50000000e+02,   4.07178732e+01,\n",
       "         -7.39433040e+01,   0.00000000e+00]])"
      ]
     },
     "execution_count": 42,
     "metadata": {},
     "output_type": "execute_result"
    }
   ],
   "source": [
    "data[[1,2,4,10]]"
   ]
  },
  {
   "cell_type": "code",
   "execution_count": 32,
   "metadata": {},
   "outputs": [
    {
     "data": {
      "text/plain": [
       "300"
      ]
     },
     "execution_count": 32,
     "metadata": {},
     "output_type": "execute_result"
    }
   ],
   "source": [
    "len(data[:,4]>0)"
   ]
  },
  {
   "cell_type": "code",
   "execution_count": 15,
   "metadata": {},
   "outputs": [
    {
     "name": "stdout",
     "output_type": "stream",
     "text": [
      "52\n"
     ]
    }
   ],
   "source": [
    "print res1[1]-res2[1]"
   ]
  },
  {
   "cell_type": "code",
   "execution_count": 47,
   "metadata": {},
   "outputs": [
    {
     "data": {
      "text/plain": [
       "array([[  1.49692218e+12,  -1.00000000e+00,   4.07191666e+01,\n",
       "         -7.39435647e+01,   0.00000000e+00]])"
      ]
     },
     "execution_count": 47,
     "metadata": {},
     "output_type": "execute_result"
    }
   ],
   "source": [
    "data[1:2]"
   ]
  },
  {
   "cell_type": "code",
   "execution_count": null,
   "metadata": {
    "collapsed": true
   },
   "outputs": [],
   "source": []
  },
  {
   "cell_type": "code",
   "execution_count": 51,
   "metadata": {},
   "outputs": [
    {
     "data": {
      "text/plain": [
       "(300, 5)"
      ]
     },
     "execution_count": 51,
     "metadata": {},
     "output_type": "execute_result"
    }
   ],
   "source": [
    "data.shape"
   ]
  },
  {
   "cell_type": "code",
   "execution_count": null,
   "metadata": {
    "collapsed": true
   },
   "outputs": [],
   "source": [
    "x"
   ]
  }
 ],
 "metadata": {
  "kernelspec": {
   "display_name": "Python 2",
   "language": "python",
   "name": "python2"
  },
  "language_info": {
   "codemirror_mode": {
    "name": "ipython",
    "version": 2
   },
   "file_extension": ".py",
   "mimetype": "text/x-python",
   "name": "python",
   "nbconvert_exporter": "python",
   "pygments_lexer": "ipython2",
   "version": "2.7.12"
  }
 },
 "nbformat": 4,
 "nbformat_minor": 1
}
